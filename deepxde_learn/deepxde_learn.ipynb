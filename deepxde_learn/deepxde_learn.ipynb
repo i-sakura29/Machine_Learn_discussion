{
 "cells": [
  {
   "cell_type": "markdown",
   "id": "bd4368c9",
   "metadata": {},
   "source": [
    "### deepxde学习\n",
    "deepxde的一般套路：  \n",
    "（1）数据：包括边界，pde方程，定义域，若有解析解可用于检测测试误差  \n",
    "（2）神经网络：包括每一层的神经元的数量，激活函数，以及神经网络的初始化  \n",
    "（3）用数据和神经网络构建模型，然后编译"
   ]
  },
  {
   "cell_type": "markdown",
   "id": "3b546359",
   "metadata": {},
   "source": [
    "#### 简单ODE方程  \n",
    "考虑如下简单的ODE方程：  \n",
    "$$\n",
    "\\frac{dy_1}{dt}=y_2\\\\\n",
    "\\frac{dy_2}{dt}=y_1\n",
    "$$\n",
    "其中$t\\in [0,10]$, 边界条件为$y_1(0)=0,y_2(0)=1$, 实际解为$y_1=sint,y_2=cost$"
   ]
  },
  {
   "cell_type": "markdown",
   "id": "1d84ac69",
   "metadata": {},
   "source": [
    "首先导入我们需要的deepxde库和numpy库"
   ]
  },
  {
   "cell_type": "code",
   "execution_count": 1,
   "id": "04738a69-d223-4184-8c03-d4727c14f1a4",
   "metadata": {},
   "outputs": [
    {
     "name": "stderr",
     "output_type": "stream",
     "text": [
      "Using backend: tensorflow.compat.v1\n",
      "\n"
     ]
    },
    {
     "name": "stdout",
     "output_type": "stream",
     "text": [
      "WARNING:tensorflow:From c:\\Users\\10161\\anaconda3\\envs\\my_python_env\\lib\\site-packages\\tensorflow\\python\\compat\\v2_compat.py:107: disable_resource_variables (from tensorflow.python.ops.variable_scope) is deprecated and will be removed in a future version.\n",
      "Instructions for updating:\n",
      "non-resource variables are not supported in the long term\n",
      "WARNING:tensorflow:From c:\\Users\\10161\\anaconda3\\envs\\my_python_env\\lib\\site-packages\\deepxde\\nn\\initializers.py:118: The name tf.keras.initializers.he_normal is deprecated. Please use tf.compat.v1.keras.initializers.he_normal instead.\n",
      "\n"
     ]
    }
   ],
   "source": [
    "import deepxde as dde\n",
    "import numpy as np"
   ]
  },
  {
   "cell_type": "markdown",
   "id": "3fb937cc",
   "metadata": {},
   "source": [
    "创建computational geometry，其中设置了time domain(也即t的取值范围)"
   ]
  },
  {
   "cell_type": "code",
   "execution_count": 2,
   "id": "249b526f-e288-464d-9b12-dafb15e0823d",
   "metadata": {},
   "outputs": [],
   "source": [
    "geom=dde.geometry.TimeDomain(0,10)"
   ]
  },
  {
   "cell_type": "markdown",
   "id": "8e7f8c26",
   "metadata": {},
   "source": [
    "接下来我们定义ODE方程，输入的第一个参数为神经网络的输入，也即我们要求的t，第二个参数为神经网络的输出，也即y，其中y[:,0:1]表示$y_1$，y[:,1:]表示$y_2$，将我们已有的方程的右边均移项移至左边，得到的方程组为输出。"
   ]
  },
  {
   "cell_type": "code",
   "execution_count": 3,
   "id": "d730132f-de48-4e48-a564-3f6488796873",
   "metadata": {},
   "outputs": [],
   "source": [
    "def ode_system(x,y):\n",
    "    y1,y2=y[:,0:1],y[:,1:]\n",
    "    dy1_x=dde.grad.jacobian(y1,x)#定义y_1的导数\n",
    "    dy2_x=dde.grad.jacobian(y2,x)#定义y_2的导数\n",
    "    return [dy1_x-y2,dy2_x+y1]"
   ]
  },
  {
   "cell_type": "markdown",
   "id": "e3374954",
   "metadata": {},
   "source": [
    "接下来定义边界条件"
   ]
  },
  {
   "cell_type": "code",
   "execution_count": 4,
   "id": "bc372214-4ec3-42a2-bc22-3563d237327a",
   "metadata": {},
   "outputs": [],
   "source": [
    "def boundary(x,on_initial):\n",
    "    return np.isclose(x[0],0)#即x[0][i]=0时为true,否则为false\n",
    "\n",
    "\"\"\"\n",
    "由于起始点即为t=0,所以我们也可以有如下定义方式\n",
    "def boundary(_,on_initial):\n",
    "    return on_initial\n",
    "\"\"\"\n",
    "\n",
    "#边界定义,第二个参数为边界值，component为标志该边界是第一个component还是第二个\n",
    "ic1=dde.icbc.IC(geom,lambda x:0,boundary,component=0)\n",
    "ic2=dde.icbc.IC(geom,lambda x:1,boundary,component=1)"
   ]
  },
  {
   "cell_type": "markdown",
   "id": "04f70ac3",
   "metadata": {},
   "source": [
    "接下来定义真实解函数，即\n",
    "$$\n",
    "y_1=sint\\\\\n",
    "y_2=cost\n",
    "$$"
   ]
  },
  {
   "cell_type": "code",
   "execution_count": 5,
   "id": "0c6af2a8",
   "metadata": {},
   "outputs": [],
   "source": [
    "def func(x):\n",
    "    return np.hstack((np.sin(x),np.cos(x)))"
   ]
  },
  {
   "cell_type": "markdown",
   "id": "566ae098",
   "metadata": {},
   "source": [
    "接下来定义该ODE问题，采用PDE求解器"
   ]
  },
  {
   "cell_type": "code",
   "execution_count": 6,
   "id": "f3b40773",
   "metadata": {},
   "outputs": [
    {
     "name": "stderr",
     "output_type": "stream",
     "text": [
      "c:\\Users\\10161\\anaconda3\\envs\\my_python_env\\lib\\site-packages\\skopt\\sampler\\sobol.py:246: UserWarning: The balance properties of Sobol' points require n to be a power of 2. 0 points have been previously generated, then: n=0+37=37. \n",
      "  warnings.warn(\"The balance properties of Sobol' points require \"\n"
     ]
    }
   ],
   "source": [
    "data=dde.data.PDE(geom,ode_system,[ic1,ic2],35,2,solution=func,num_test=100)\n",
    "#其中35为定义域上的采样的点的个数，2是边界点个数(即左边界和右边界)，100为测试点的个数"
   ]
  },
  {
   "cell_type": "markdown",
   "id": "dca4c53d",
   "metadata": {},
   "source": [
    "接下来定义神经网络，我们采用四层（即三隐藏层）的网络，其中每个隐藏层有50个神经元，而输入输出分别为1和2，激活函数用tanh，初始化采用\"Glorot uniform\"，"
   ]
  },
  {
   "cell_type": "code",
   "execution_count": 7,
   "id": "ede991c6-9355-4fae-88b2-7a3c7d761574",
   "metadata": {},
   "outputs": [],
   "source": [
    "layer_size=[1]+[50]*3+[2]\n",
    "activation='tanh'\n",
    "initializer='Glorot uniform'\n",
    "net=dde.nn.FNN(layer_size,activation,initializer)"
   ]
  },
  {
   "cell_type": "markdown",
   "id": "57826d72-5589-445c-bd33-6ee0819f3096",
   "metadata": {},
   "source": [
    "现在就可以实例化模型并进行训练，我们迭代两万次"
   ]
  },
  {
   "cell_type": "code",
   "execution_count": 8,
   "id": "93ea5f7d-8633-4c8c-aa82-753ffddfa124",
   "metadata": {},
   "outputs": [
    {
     "name": "stdout",
     "output_type": "stream",
     "text": [
      "Compiling model...\n",
      "Building feed-forward neural network...\n",
      "'build' took 0.071521 s\n",
      "\n"
     ]
    },
    {
     "name": "stderr",
     "output_type": "stream",
     "text": [
      "c:\\Users\\10161\\anaconda3\\envs\\my_python_env\\lib\\site-packages\\deepxde\\nn\\tensorflow_compat_v1\\fnn.py:103: UserWarning: `tf.layers.dense` is deprecated and will be removed in a future version. Please use `tf.keras.layers.Dense` instead.\n",
      "  return tf.layers.dense(\n"
     ]
    },
    {
     "name": "stdout",
     "output_type": "stream",
     "text": [
      "'compile' took 0.340710 s\n",
      "\n",
      "Initializing variables...\n",
      "Training model...\n",
      "\n",
      "Step      Train loss                                  Test loss                                   Test metric   \n",
      "0         [2.13e-02, 1.70e-01, 0.00e+00, 1.00e+00]    [2.01e-02, 1.75e-01, 0.00e+00, 1.00e+00]    [1.14e+00]    \n",
      "1000      [8.50e-03, 7.27e-03, 2.01e-07, 3.07e-04]    [9.35e-03, 6.77e-03, 2.01e-07, 3.07e-04]    [7.74e-01]    \n",
      "2000      [5.89e-03, 4.56e-03, 8.09e-07, 1.33e-04]    [6.24e-03, 4.41e-03, 8.09e-07, 1.33e-04]    [6.18e-01]    \n",
      "3000      [3.54e-03, 3.35e-03, 1.34e-06, 6.71e-05]    [4.01e-03, 3.25e-03, 1.34e-06, 6.71e-05]    [4.84e-01]    \n",
      "4000      [1.59e-03, 2.13e-03, 1.08e-05, 1.14e-04]    [1.78e-03, 2.01e-03, 1.08e-05, 1.14e-04]    [3.26e-01]    \n",
      "5000      [4.53e-04, 6.51e-04, 1.61e-07, 7.15e-06]    [5.43e-04, 6.01e-04, 1.61e-07, 7.15e-06]    [1.66e-01]    \n",
      "6000      [1.99e-04, 1.64e-04, 8.99e-08, 1.41e-06]    [2.25e-04, 1.76e-04, 8.99e-08, 1.41e-06]    [8.06e-02]    \n",
      "7000      [1.18e-04, 6.82e-05, 5.48e-11, 6.47e-07]    [1.17e-04, 9.83e-05, 5.48e-11, 6.47e-07]    [4.91e-02]    \n",
      "8000      [6.35e-05, 4.06e-05, 5.83e-08, 1.01e-07]    [5.69e-05, 7.09e-05, 5.83e-08, 1.01e-07]    [2.96e-02]    \n",
      "9000      [3.88e-05, 3.07e-05, 3.49e-08, 4.41e-08]    [3.55e-05, 5.64e-05, 3.49e-08, 4.41e-08]    [2.17e-02]    \n",
      "10000     [1.54e-03, 7.17e-04, 5.93e-05, 3.52e-09]    [1.54e-03, 6.60e-04, 5.93e-05, 3.52e-09]    [4.92e-02]    \n",
      "11000     [2.03e-05, 2.23e-05, 1.41e-08, 1.73e-08]    [2.12e-05, 4.42e-05, 1.41e-08, 1.73e-08]    [1.61e-02]    \n",
      "12000     [6.62e-04, 8.32e-04, 1.01e-04, 5.14e-04]    [6.67e-04, 8.99e-04, 1.01e-04, 5.14e-04]    [3.28e-02]    \n",
      "13000     [2.48e-05, 2.78e-05, 4.94e-07, 8.23e-07]    [3.11e-05, 5.25e-05, 4.94e-07, 8.23e-07]    [1.53e-02]    \n",
      "14000     [1.06e-05, 1.46e-05, 4.95e-09, 8.01e-09]    [1.26e-05, 3.07e-05, 4.95e-09, 8.01e-09]    [1.12e-02]    \n",
      "15000     [1.06e-05, 1.32e-05, 1.13e-07, 2.80e-08]    [1.39e-05, 2.92e-05, 1.13e-07, 2.80e-08]    [1.19e-02]    \n",
      "16000     [3.38e-05, 5.86e-05, 4.16e-06, 3.23e-05]    [3.21e-05, 7.02e-05, 4.16e-06, 3.23e-05]    [1.20e-02]    \n",
      "17000     [7.92e-04, 3.97e-04, 5.17e-05, 4.20e-06]    [8.00e-04, 3.68e-04, 5.17e-05, 4.20e-06]    [3.29e-02]    \n",
      "18000     [3.80e-05, 4.83e-05, 5.52e-06, 3.15e-05]    [4.01e-05, 5.82e-05, 5.52e-06, 3.15e-05]    [9.01e-03]    \n",
      "19000     [2.53e-06, 4.20e-06, 1.30e-09, 6.25e-09]    [4.96e-06, 1.01e-05, 1.30e-09, 6.25e-09]    [5.27e-03]    \n",
      "20000     [5.97e-05, 6.31e-05, 1.02e-05, 4.66e-05]    [5.95e-05, 7.01e-05, 1.02e-05, 4.66e-05]    [9.68e-03]    \n",
      "\n",
      "Best model at step 19000:\n",
      "  train loss: 6.74e-06\n",
      "  test loss: 1.50e-05\n",
      "  test metric: [5.27e-03]\n",
      "\n",
      "'train' took 40.569373 s\n",
      "\n"
     ]
    }
   ],
   "source": [
    "model=dde.Model(data,net)\n",
    "model.compile(\"adam\",lr=0.001, metrics=[\"l2 relative error\"])\n",
    "losshistory,train_state=model.train(iterations=20000)"
   ]
  },
  {
   "cell_type": "markdown",
   "id": "61eaa228",
   "metadata": {},
   "source": [
    "显示迭代误差与预测结果"
   ]
  },
  {
   "cell_type": "code",
   "execution_count": 9,
   "id": "40bcbc2f",
   "metadata": {},
   "outputs": [
    {
     "name": "stdout",
     "output_type": "stream",
     "text": [
      "Saving loss history to d:\\study\\code\\py\\pde\\loss.dat ...\n",
      "Saving training data to d:\\study\\code\\py\\pde\\train.dat ...\n",
      "Saving test data to d:\\study\\code\\py\\pde\\test.dat ...\n"
     ]
    },
    {
     "data": {
      "image/png": "[encoded data removed]",
      "text/plain": [
       "<Figure size 432x288 with 1 Axes>"
      ]
     },
     "metadata": {
      "needs_background": "light"
     },
     "output_type": "display_data"
    },
    {
     "data": {
      "image/png": "[encoded data removed]",
      "text/plain": [
       "<Figure size 432x288 with 1 Axes>"
      ]
     },
     "metadata": {
      "needs_background": "light"
     },
     "output_type": "display_data"
    }
   ],
   "source": [
    "dde.saveplot(losshistory, train_state, issave=True, isplot=True)"
   ]
  },
  {
   "cell_type": "markdown",
   "id": "5a11719a",
   "metadata": {},
   "source": [
    "对于实际数据可以采用predict函数进行预测，输入为np.array数组，输出预测结果"
   ]
  },
  {
   "cell_type": "code",
   "execution_count": 11,
   "id": "788d3853",
   "metadata": {},
   "outputs": [
    {
     "name": "stdout",
     "output_type": "stream",
     "text": [
      "[[ 1.0004866e+00  9.6410140e-04]\n",
      " [ 1.0867678e-03 -1.0000387e+00]]\n"
     ]
    }
   ],
   "source": [
    "print(model.predict(np.array([np.pi/2,np.pi]).reshape(-1,1)))"
   ]
  },
  {
   "cell_type": "markdown",
   "id": "8d40fd8b",
   "metadata": {},
   "source": [
    "没有解析解也可以将func省去，代码如下"
   ]
  },
  {
   "cell_type": "code",
   "execution_count": 12,
   "id": "eb72cbd3",
   "metadata": {},
   "outputs": [
    {
     "name": "stdout",
     "output_type": "stream",
     "text": [
      "Compiling model...\n",
      "'compile' took 0.336380 s\n",
      "\n",
      "Initializing variables...\n",
      "Training model...\n",
      "\n",
      "Step      Train loss                                  Test loss                                   Test metric\n",
      "0         [4.63e-02, 2.11e-01, 0.00e+00, 1.00e+00]    [4.27e-02, 2.17e-01, 0.00e+00, 1.00e+00]    []  \n",
      "1000      [9.00e-03, 7.46e-03, 2.05e-08, 3.52e-04]    [1.00e-02, 6.90e-03, 2.05e-08, 3.52e-04]    []  \n",
      "2000      [5.84e-03, 4.59e-03, 5.64e-07, 1.45e-04]    [6.22e-03, 4.43e-03, 5.64e-07, 1.45e-04]    []  \n",
      "3000      [3.53e-03, 3.29e-03, 7.84e-07, 6.75e-05]    [3.93e-03, 3.18e-03, 7.84e-07, 6.75e-05]    []  \n",
      "4000      [1.57e-03, 2.12e-03, 1.12e-06, 2.76e-05]    [1.79e-03, 1.90e-03, 1.12e-06, 2.76e-05]    []  \n",
      "5000      [6.97e-04, 9.02e-04, 3.01e-07, 1.18e-05]    [7.74e-04, 7.17e-04, 3.01e-07, 1.18e-05]    []  \n",
      "6000      [4.06e-04, 5.22e-04, 3.93e-06, 3.49e-05]    [4.05e-04, 3.70e-04, 3.93e-06, 3.49e-05]    []  \n",
      "7000      [1.79e-03, 5.66e-04, 1.29e-04, 1.87e-04]    [1.76e-03, 4.11e-04, 1.29e-04, 1.87e-04]    []  \n",
      "8000      [9.05e-05, 1.11e-04, 1.18e-07, 4.35e-07]    [9.92e-05, 6.75e-05, 1.18e-07, 4.35e-07]    []  \n",
      "9000      [6.30e-05, 6.08e-05, 5.83e-08, 1.88e-07]    [6.61e-05, 3.89e-05, 5.83e-08, 1.88e-07]    []  \n",
      "10000     [9.34e-04, 2.43e-04, 9.34e-05, 4.52e-05]    [9.80e-04, 2.35e-04, 9.34e-05, 4.52e-05]    []  \n",
      "11000     [3.57e-05, 3.10e-05, 8.96e-09, 1.01e-07]    [3.65e-05, 2.23e-05, 8.96e-09, 1.01e-07]    []  \n",
      "12000     [2.73e-05, 2.51e-05, 1.28e-08, 5.02e-08]    [2.77e-05, 1.92e-05, 1.28e-08, 5.02e-08]    []  \n",
      "13000     [1.99e-05, 2.11e-05, 8.75e-09, 2.91e-08]    [2.00e-05, 1.69e-05, 8.75e-09, 2.91e-08]    []  \n",
      "14000     [1.40e-05, 1.93e-05, 6.52e-08, 4.17e-07]    [1.39e-05, 1.73e-05, 6.52e-08, 4.17e-07]    []  \n",
      "15000     [9.46e-06, 1.64e-05, 4.92e-08, 1.19e-08]    [9.52e-06, 1.45e-05, 4.92e-08, 1.19e-08]    []  \n",
      "16000     [6.03e-06, 1.47e-05, 2.49e-10, 2.29e-07]    [5.88e-06, 1.39e-05, 2.49e-10, 2.29e-07]    []  \n",
      "17000     [3.51e-05, 2.22e-05, 4.84e-06, 3.88e-06]    [3.74e-05, 2.05e-05, 4.84e-06, 3.88e-06]    []  \n",
      "18000     [2.69e-06, 1.14e-05, 1.28e-09, 8.66e-09]    [2.72e-06, 1.10e-05, 1.28e-09, 8.66e-09]    []  \n",
      "19000     [1.91e-06, 1.03e-05, 2.67e-08, 2.51e-10]    [1.99e-06, 1.01e-05, 2.67e-08, 2.51e-10]    []  \n",
      "20000     [1.25e-06, 8.87e-06, 1.24e-09, 4.90e-09]    [1.30e-06, 9.10e-06, 1.24e-09, 4.90e-09]    []  \n",
      "\n",
      "Best model at step 20000:\n",
      "  train loss: 1.01e-05\n",
      "  test loss: 1.04e-05\n",
      "  test metric: []\n",
      "\n",
      "'train' took 39.827051 s\n",
      "\n"
     ]
    },
    {
     "data": {
      "text/plain": [
       "(<deepxde.model.LossHistory at 0x1fd6f6f48e0>,\n",
       " <deepxde.model.TrainState at 0x1fd72967a00>)"
      ]
     },
     "execution_count": 12,
     "metadata": {},
     "output_type": "execute_result"
    }
   ],
   "source": [
    "data=dde.data.PDE(geom,ode_system,[ic1,ic2],35,2,num_test=100)\n",
    "model=dde.Model(data,net)\n",
    "model.compile(\"adam\",lr=0.001)\n",
    "model.train(iterations=20000)"
   ]
  },
  {
   "cell_type": "markdown",
   "id": "7428ad08",
   "metadata": {},
   "source": [
    "#### 简单PDE"
   ]
  },
  {
   "cell_type": "markdown",
   "id": "93b56175",
   "metadata": {},
   "source": [
    "考虑1维possion方程：\n",
    "$$\n",
    "\\Delta u=2,x\\in [-1,1]\n",
    "$$\n",
    "右边界为Neumman边界条件，即\n",
    "$$\n",
    "\\frac{du}{dx}|_{x=1}=4\n",
    "$$\n",
    "左边界为Dirichlet边界条件，即\n",
    "$$\n",
    "u(-1)=0\n",
    "$$\n",
    "实际解为\n",
    "$$\n",
    "u(x)=(x+1)^2\n",
    "$$\n",
    "（与上面重复的部分只给出代码，不解释）"
   ]
  },
  {
   "cell_type": "markdown",
   "id": "53e7e245",
   "metadata": {},
   "source": [
    "首先导入所需要的库："
   ]
  },
  {
   "cell_type": "code",
   "execution_count": 3,
   "id": "82334037",
   "metadata": {},
   "outputs": [],
   "source": [
    "import deepxde as dde\n",
    "import numpy as np"
   ]
  },
  {
   "cell_type": "markdown",
   "id": "1ef1a30b",
   "metadata": {},
   "source": [
    "接下来定义pde system，边界条件，以及实际解，并构建数据集。"
   ]
  },
  {
   "cell_type": "code",
   "execution_count": 17,
   "id": "d5ef5f33",
   "metadata": {},
   "outputs": [],
   "source": [
    "def pde(x,y):\n",
    "    dy_xx=dde.grad.hessian(y,x)\n",
    "    return dy_xx-2\n",
    "\n",
    "def func(x):\n",
    "    return (x+1)**2\n",
    "\n",
    "#左边界\n",
    "def boundary_l(x,on_boundary):\n",
    "    return on_boundary and np.isclose(x[0],-1)\n",
    "\n",
    "#右边界\n",
    "def boundary_r(x,on_boundary):\n",
    "    return on_boundary and np.isclose(x[0],1)\n",
    "\n",
    "#定义域\n",
    "geom=dde.geometry.Interval(-1,1)\n",
    "\n",
    "#Dirichlet边界条件\n",
    "bc_l=dde.icbc.DirichletBC(geom,func,boundary_l)\n",
    "\n",
    "#Neumann边界条件\n",
    "bc_r=dde.icbc.NeumannBC(geom,lambda X:2*(X+1),boundary_r)\n",
    "\n",
    "data=dde.data.PDE(geom,pde,[bc_l,bc_r],16,2,solution=func,num_test=100)"
   ]
  },
  {
   "cell_type": "markdown",
   "id": "8c3aede4",
   "metadata": {},
   "source": [
    "接下来定义神经网络"
   ]
  },
  {
   "cell_type": "code",
   "execution_count": 19,
   "id": "f25b839b",
   "metadata": {},
   "outputs": [],
   "source": [
    "layer_size=[1]+[50]*3+[1]\n",
    "activation='tanh'\n",
    "initializer=\"Glorot uniform\"\n",
    "net=dde.nn.FNN(layer_size,activation,initializer)"
   ]
  },
  {
   "cell_type": "markdown",
   "id": "ab092740",
   "metadata": {},
   "source": [
    "神经网络求解"
   ]
  },
  {
   "cell_type": "code",
   "execution_count": 21,
   "id": "0eec631e",
   "metadata": {},
   "outputs": [
    {
     "name": "stdout",
     "output_type": "stream",
     "text": [
      "Compiling model...\n",
      "Building feed-forward neural network...\n",
      "'build' took 0.034966 s\n",
      "\n",
      "'compile' took 0.271964 s\n",
      "\n",
      "Initializing variables...\n",
      "Training model...\n",
      "\n",
      "Step      Train loss                        Test loss                         Test metric   \n",
      "0         [4.00e+00, 3.99e-02, 1.44e+01]    [4.00e+00, 3.99e-02, 1.44e+01]    [9.60e-01]    \n",
      "1000      [1.66e-03, 4.30e-08, 6.44e-07]    [1.13e-03, 4.30e-08, 6.44e-07]    [1.44e-03]    \n",
      "2000      [1.58e-04, 3.95e-08, 6.56e-08]    [8.24e-05, 3.95e-08, 6.56e-08]    [5.85e-04]    \n",
      "3000      [5.43e-05, 9.11e-10, 3.67e-09]    [3.99e-05, 9.11e-10, 3.67e-09]    [8.58e-04]    \n",
      "4000      [3.59e-05, 2.57e-07, 1.02e-07]    [2.97e-05, 2.57e-07, 1.02e-07]    [7.47e-04]    \n",
      "5000      [2.81e-05, 6.69e-09, 7.87e-07]    [2.06e-05, 6.69e-09, 7.87e-07]    [6.33e-04]    \n",
      "6000      [1.85e-05, 5.72e-10, 7.39e-10]    [1.70e-05, 5.72e-10, 7.39e-10]    [5.58e-04]    \n",
      "7000      [1.41e-05, 1.15e-06, 3.44e-07]    [1.35e-05, 1.15e-06, 3.44e-07]    [4.64e-04]    \n",
      "8000      [1.03e-05, 7.04e-11, 3.64e-12]    [1.04e-05, 7.04e-11, 3.64e-12]    [3.59e-04]    \n",
      "9000      [1.68e-05, 8.56e-05, 7.20e-05]    [1.93e-05, 8.56e-05, 7.20e-05]    [3.39e-03]    \n",
      "10000     [5.92e-06, 1.49e-10, 7.37e-11]    [6.55e-06, 1.49e-10, 7.37e-11]    [2.18e-04]    \n",
      "\n",
      "Best model at step 10000:\n",
      "  train loss: 5.92e-06\n",
      "  test loss: 6.55e-06\n",
      "  test metric: [2.18e-04]\n",
      "\n",
      "'train' took 5.031939 s\n",
      "\n"
     ]
    }
   ],
   "source": [
    "model = dde.Model(data, net)#注意先数据后网络\n",
    "model.compile(\"adam\", lr=0.001, metrics=[\"l2 relative error\"])\n",
    "losshistory, train_state = model.train(iterations=10000)"
   ]
  },
  {
   "cell_type": "code",
   "execution_count": 22,
   "id": "db22c6e6",
   "metadata": {},
   "outputs": [
    {
     "data": {
      "image/png": "[encoded data removed]",
      "text/plain": [
       "<Figure size 432x288 with 1 Axes>"
      ]
     },
     "metadata": {
      "needs_background": "light"
     },
     "output_type": "display_data"
    },
    {
     "data": {
      "image/png": "[encoded data removed]",
      "text/plain": [
       "<Figure size 432x288 with 1 Axes>"
      ]
     },
     "metadata": {
      "needs_background": "light"
     },
     "output_type": "display_data"
    }
   ],
   "source": [
    "dde.saveplot(losshistory, train_state,issave=False,isplot=True)"
   ]
  },
  {
   "cell_type": "markdown",
   "id": "4bb186c6",
   "metadata": {},
   "source": [
    "####  2维PDE"
   ]
  },
  {
   "cell_type": "markdown",
   "id": "634c9f70",
   "metadata": {},
   "source": [
    "考虑Helmholtz equation。形式如下：  \n",
    "$$- u_{xx}-u_{yy} - k_0^2 u = f, \\qquad \\Omega = [0,1]^2$$\n",
    "考虑Dirichlet边界条件：  \n",
    "$$ u(x, y) = 0,\\ (x, y) \\in \\partial \\Omega$$\n",
    "令$$f(x,y) = k_0^2\\sin(k_0 x)\\sin(k_0 y)$$\n",
    "其真实解为$$u(x,y)= \\sin(k_0 x)\\sin(k_0 y)$$\n",
    "dde求解过程如下"
   ]
  },
  {
   "cell_type": "code",
   "execution_count": 20,
   "id": "24a50195",
   "metadata": {},
   "outputs": [],
   "source": [
    "import deepxde as dde\n",
    "import numpy as np"
   ]
  },
  {
   "cell_type": "markdown",
   "id": "02a24e88",
   "metadata": {},
   "source": [
    "定义模型超参数"
   ]
  },
  {
   "cell_type": "code",
   "execution_count": 21,
   "id": "6b2e7244",
   "metadata": {},
   "outputs": [],
   "source": [
    "iterations=5000\n",
    "parameters=[1e-3,3,150,'sin']\n",
    "\n",
    "if dde.backend.backend_name=='pytorch':\n",
    "    sin=dde.backend.pytorch.sin\n",
    "else:\n",
    "    sin=dde.backend.tf.sin\n",
    "\n",
    "learning_rate,num_dense_layers,num_dense_nodes,activation=parameters"
   ]
  },
  {
   "cell_type": "markdown",
   "id": "ee6d2a72",
   "metadata": {},
   "source": [
    "接下来定义pde system，其中输入x为自变量，即[x;y]，u为因变量"
   ]
  },
  {
   "cell_type": "code",
   "execution_count": 22,
   "id": "22d73ab4",
   "metadata": {},
   "outputs": [],
   "source": [
    "def pde(x,u):\n",
    "    du_xx=dde.grad.hessian(u,x,i=0,j=0) #i=0,j=0表示对x求两阶导\n",
    "    du_yy=dde.grad.hessian(u,x,i=1,j=1) #i=1,j=1表示对y求两阶导\n",
    "\n",
    "    f=k0**2*sin(k0*x[:,0:1])*sin(k0*x[:,1:2])\n",
    "    return -du_xx-du_yy-k0**2*u-f"
   ]
  },
  {
   "cell_type": "markdown",
   "id": "c2f25c8f",
   "metadata": {},
   "source": [
    "接下来定义该PDE的真实解与边界"
   ]
  },
  {
   "cell_type": "code",
   "execution_count": 23,
   "id": "f92bdfbb",
   "metadata": {},
   "outputs": [],
   "source": [
    "def func(x):\n",
    "    return np.sin(k0*x[:,0:1])*np.sin(k0*x[:,1:2])\n",
    "\n",
    "\n",
    "def boundary(_,on_boundary):\n",
    "    return on_boundary"
   ]
  },
  {
   "cell_type": "markdown",
   "id": "0311e17e",
   "metadata": {},
   "source": [
    "接下来定义geometry，周期长度等参数"
   ]
  },
  {
   "cell_type": "code",
   "execution_count": 24,
   "id": "28477ea8",
   "metadata": {},
   "outputs": [],
   "source": [
    "geom=dde.geometry.Rectangle([0,0],[1,1]) #定义域[0,1]x[0,1]\n",
    "\n",
    "n=2 #[0,1]内的周期数\n",
    "k0=2*np.pi*n \n",
    "wave_len=1/n #周期\n",
    "\n",
    "precision_train=10 #一个周期内训练集的点的个数\n",
    "precision_test=30 #一个周期内测试集点的个数\n",
    "hard_constraint=True #True为hard boundary conditions，即边界误差的比重与内部误差比重相同\n",
    "weight=100 #soft boundary conditions 条件下，内部误差比重为100，边界为1\n",
    "\n",
    "hx_train=wave_len/precision_train\n",
    "nx_train=int(1/hx_train) #训练点的总个数\n",
    "\n",
    "hx_test=wave_len/precision_test\n",
    "nx_test=int(1/hx_test) #测试点的总个数\n",
    "\n",
    "if hard_constraint==True:\n",
    "    bc=[]\n",
    "else:\n",
    "    bc=dde.icbc.DirichletBC(geom,lambda x:0,boundary)"
   ]
  },
  {
   "cell_type": "markdown",
   "id": "8483fa36",
   "metadata": {},
   "source": [
    "接下来定义数据与神经网络"
   ]
  },
  {
   "cell_type": "code",
   "execution_count": 25,
   "id": "7dc5445b",
   "metadata": {},
   "outputs": [
    {
     "name": "stderr",
     "output_type": "stream",
     "text": [
      "c:\\Users\\10161\\anaconda3\\envs\\my_python_env\\lib\\site-packages\\skopt\\sampler\\sobol.py:246: UserWarning: The balance properties of Sobol' points require n to be a power of 2. 0 points have been previously generated, then: n=0+402=402. \n",
      "  warnings.warn(\"The balance properties of Sobol' points require \"\n",
      "c:\\Users\\10161\\anaconda3\\envs\\my_python_env\\lib\\site-packages\\skopt\\sampler\\sobol.py:246: UserWarning: The balance properties of Sobol' points require n to be a power of 2. 0 points have been previously generated, then: n=0+84=84. \n",
      "  warnings.warn(\"The balance properties of Sobol' points require \"\n"
     ]
    }
   ],
   "source": [
    "data=dde.data.PDE(\n",
    "    geom,\n",
    "    pde,\n",
    "    bc,\n",
    "    num_domain=nx_train**2, #相当于每个方向都去nx_train个\n",
    "    num_boundary=4*nx_train, #四条边\n",
    "    solution=func,\n",
    "    num_test=nx_test**2,\n",
    ")\n",
    "\n",
    "net=dde.nn.FNN([2]+[num_dense_nodes]*num_dense_layers+[1],activation,\"Glorot uniform\")"
   ]
  },
  {
   "cell_type": "markdown",
   "id": "637d18b4",
   "metadata": {},
   "source": [
    "在hard constraint的条件下，我们可以通过如下transform来增强boundary conditions:\n",
    "$$\n",
    "\\widehat{u}(x,y)=x(x−1)y(y−1)\\mathcal{N}(x,y)\n",
    "$$"
   ]
  },
  {
   "cell_type": "code",
   "execution_count": 26,
   "id": "2a2d3e55",
   "metadata": {},
   "outputs": [],
   "source": [
    "def transform(x,y):\n",
    "    res=x[:,0:1]*(1-x[:,0:1])*x[:,1:2]*(1-x[:,1:2])\n",
    "    return res*y\n",
    "\n",
    "if hard_constraint==True:\n",
    "    net.apply_output_transform(transform)"
   ]
  },
  {
   "cell_type": "markdown",
   "id": "9d636470",
   "metadata": {},
   "source": [
    "接下来使用model进行求解"
   ]
  },
  {
   "cell_type": "code",
   "execution_count": 27,
   "id": "c124bf3c",
   "metadata": {},
   "outputs": [
    {
     "name": "stdout",
     "output_type": "stream",
     "text": [
      "Compiling model...\n",
      "Building feed-forward neural network...\n",
      "'build' took 0.062645 s\n",
      "\n"
     ]
    },
    {
     "name": "stderr",
     "output_type": "stream",
     "text": [
      "c:\\Users\\10161\\anaconda3\\envs\\my_python_env\\lib\\site-packages\\deepxde\\nn\\tensorflow_compat_v1\\fnn.py:103: UserWarning: `tf.layers.dense` is deprecated and will be removed in a future version. Please use `tf.keras.layers.Dense` instead.\n",
      "  return tf.layers.dense(\n"
     ]
    },
    {
     "name": "stdout",
     "output_type": "stream",
     "text": [
      "'compile' took 1.150856 s\n",
      "\n",
      "Initializing variables...\n",
      "Training model...\n",
      "\n",
      "Step      Train loss    Test loss     Test metric   \n",
      "0         [5.47e+03]    [6.44e+03]    [1.00e+00]    \n",
      "1000      [7.10e+01]    [8.65e+01]    [3.78e-01]    \n",
      "2000      [1.15e+01]    [1.46e+01]    [1.48e-01]    \n",
      "3000      [1.42e+00]    [1.98e+00]    [4.85e-02]    \n",
      "4000      [2.07e-01]    [3.26e-01]    [1.64e-02]    \n",
      "5000      [7.98e-02]    [1.23e-01]    [8.38e-03]    \n",
      "\n",
      "Best model at step 5000:\n",
      "  train loss: 7.98e-02\n",
      "  test loss: 1.23e-01\n",
      "  test metric: [8.38e-03]\n",
      "\n",
      "'train' took 102.324616 s\n",
      "\n"
     ]
    }
   ],
   "source": [
    "model=dde.Model(data,net)\n",
    "\n",
    "if hard_constraint:\n",
    "    model.compile(\"adam\",lr=learning_rate,metrics=[\"l2 relative error\"])\n",
    "else:\n",
    "    loss_weights=[1,weight]\n",
    "    model.compile(\n",
    "        \"adam\",\n",
    "        lr=learning_rate,\n",
    "        metrics=[\"l2 relative error\"],\n",
    "        loss_weights=loss_weights,\n",
    "    )\n",
    "losshistory,train_state=model.train(iterations=iterations)"
   ]
  },
  {
   "cell_type": "code",
   "execution_count": 28,
   "id": "3667d84a",
   "metadata": {},
   "outputs": [
    {
     "data": {
      "image/png": "[encoded data removed]",
      "text/plain": [
       "<Figure size 432x288 with 1 Axes>"
      ]
     },
     "metadata": {
      "needs_background": "light"
     },
     "output_type": "display_data"
    },
    {
     "data": {
      "image/png": "[encoded data removed]",
      "text/plain": [
       "<Figure size 432x288 with 1 Axes>"
      ]
     },
     "metadata": {
      "needs_background": "light"
     },
     "output_type": "display_data"
    }
   ],
   "source": [
    "dde.saveplot(losshistory,train_state,issave=False,isplot=True)"
   ]
  },
  {
   "cell_type": "markdown",
   "id": "8c384bf3",
   "metadata": {},
   "source": [
    "#### 算子学习"
   ]
  },
  {
   "cell_type": "markdown",
   "id": "b87142fa",
   "metadata": {},
   "source": [
    "我们以学习积分算子为例，具体问题如下：  \n",
    "需要学习的算子$$G:v\\mapsto u$$满足ODE方程$$\\frac{du(x)}{dx}=v(x),x\\in [0,1],$$\n",
    "边界条件为$u(0)=0$  \n",
    "我们有的训练数据集为$(x_i,u(x_i))$(在该例子中有150个，每个u有100个x)以及与之相对应的函数$G(u)$，函数G(u)的输入为y，用一串$G(u)(y)$的值来表示$G(u)$，在该例子中，y的取值与x取值相同。\n",
    "训练数据集为\"antiderivative_aligned_train.npz\"，测试数据集为\"antiderivative_aligned_test.npz\""
   ]
  },
  {
   "cell_type": "markdown",
   "id": "bbf9fff4",
   "metadata": {},
   "source": [
    "首先导入所需的库"
   ]
  },
  {
   "cell_type": "code",
   "execution_count": 2,
   "id": "16bc6907",
   "metadata": {},
   "outputs": [
    {
     "name": "stderr",
     "output_type": "stream",
     "text": [
      "Using backend: tensorflow.compat.v1\n",
      "\n"
     ]
    },
    {
     "name": "stdout",
     "output_type": "stream",
     "text": [
      "WARNING:tensorflow:From c:\\Users\\10161\\anaconda3\\envs\\my_python_env\\lib\\site-packages\\tensorflow\\python\\compat\\v2_compat.py:107: disable_resource_variables (from tensorflow.python.ops.variable_scope) is deprecated and will be removed in a future version.\n",
      "Instructions for updating:\n",
      "non-resource variables are not supported in the long term\n",
      "WARNING:tensorflow:From c:\\Users\\10161\\anaconda3\\envs\\my_python_env\\lib\\site-packages\\deepxde\\nn\\initializers.py:118: The name tf.keras.initializers.he_normal is deprecated. Please use tf.compat.v1.keras.initializers.he_normal instead.\n",
      "\n"
     ]
    }
   ],
   "source": [
    "import deepxde as dde\n",
    "import numpy as np\n",
    "import matplotlib.pyplot as plt"
   ]
  },
  {
   "cell_type": "markdown",
   "id": "e1d6765e",
   "metadata": {},
   "source": [
    "接下来导入数据集。该网络中的一个数据点为一对$(v,u)$(在该数据集中我们有50个这样的函数对)。我们通过如下方法生成：  \n",
    "1.函数$v$在Gaussian random field (GRF) 上随机取点（这里取m=100个点）  \n",
    "2.通过数值算法求解$u$。对于每个$u$，我们有100个u(x)的值，且每个$u$所取的x相同，也即我们有$N_u=100$个x。"
   ]
  },
  {
   "cell_type": "code",
   "execution_count": 3,
   "id": "95213de6",
   "metadata": {},
   "outputs": [
    {
     "name": "stdout",
     "output_type": "stream",
     "text": [
      "(150, 100) (100, 1) (150, 100)\n",
      "(1000, 100) (100, 1) (1000, 100)\n"
     ]
    }
   ],
   "source": [
    "d=np.load(\"antiderivative_aligned_train.npz\",allow_pickle=True)\n",
    "X_train=(d[\"X\"][0].astype(np.float32),d[\"X\"][1].astype(np.float32))\n",
    "y_train=d[\"y\"].astype(np.float32)\n",
    "print(X_train[0].shape,X_train[1].shape,y_train.shape)\n",
    "d=np.load(\"antiderivative_aligned_test.npz\",allow_pickle=True)\n",
    "X_test=(d[\"X\"][0].astype(np.float32),d[\"X\"][1].astype(np.float32))\n",
    "y_test=d[\"y\"].astype(np.float32)\n",
    "print(X_test[0].shape,X_test[1].shape,y_test.shape)"
   ]
  },
  {
   "cell_type": "markdown",
   "id": "2aeb9be9",
   "metadata": {},
   "source": [
    "接下来定义所需数据"
   ]
  },
  {
   "cell_type": "code",
   "execution_count": 4,
   "id": "37419f8f",
   "metadata": {},
   "outputs": [],
   "source": [
    "data=dde.data.TripleCartesianProd(\n",
    "    X_train=X_train,y_train=y_train,X_test=X_test,y_test=y_test\n",
    ")"
   ]
  },
  {
   "cell_type": "markdown",
   "id": "132e9281",
   "metadata": {},
   "source": [
    "接下来定义神经网络DeepONet\n",
    "由于输入数据包括$(x_i,u(x_i)$与$y$, 其中$y\\in\\mathbb{R}^d$, $u(x_i)\\in \\mathbb{R}$, 所以我们需要两个前馈神经网络(FNN)来分别处理$(x_i,u(x_i)$与$y$. 首先我们有“trunk net”, 以y为输入, $[t_1,\\dots,t_p]$为输出. 除此之外我们有“branch net”, 以$(x_i,u(x_i)_{i=1}^{m}$为输入, 以$[b_1,\\dots,b_p]$为输出, 然后我们把这两个网络乘起来, 得到\n",
    "$$\n",
    "G(u)(y)\\approx \\sum\\limits_{k=1}^{p}\\underbrace{b_k(u(x_1),\\dots,u(x_m))}_{branch}\\underbrace{t_k(y)}_{trunk}\n",
    "$$\n",
    "<div align=center><img src=\"5.png\"></div>"
   ]
  },
  {
   "cell_type": "code",
   "execution_count": 5,
   "id": "b5bf6e1b",
   "metadata": {},
   "outputs": [],
   "source": [
    "m=100\n",
    "dim_x=1\n",
    "net=dde.nn.DeepONetCartesianProd(\n",
    "    [m,40,40], #branch net\n",
    "    [dim_x,40,40], #trunk net\n",
    "    'tanh',\n",
    "    'Glorot normal',\n",
    ")"
   ]
  },
  {
   "cell_type": "markdown",
   "id": "1c186028",
   "metadata": {},
   "source": [
    "接下来为训练过程"
   ]
  },
  {
   "cell_type": "code",
   "execution_count": 6,
   "id": "0ece9073",
   "metadata": {},
   "outputs": [
    {
     "name": "stdout",
     "output_type": "stream",
     "text": [
      "Compiling model...\n",
      "Building DeepONetCartesianProd...\n",
      "'build' took 0.046769 s\n",
      "\n",
      "'compile' took 0.150269 s\n",
      "\n",
      "Initializing variables...\n"
     ]
    },
    {
     "name": "stderr",
     "output_type": "stream",
     "text": [
      "c:\\Users\\10161\\anaconda3\\envs\\my_python_env\\lib\\site-packages\\deepxde\\nn\\tensorflow_compat_v1\\deeponet.py:312: UserWarning: `tf.layers.dense` is deprecated and will be removed in a future version. Please use `tf.keras.layers.Dense` instead.\n",
      "  y_func = tf.layers.dense(\n",
      "c:\\Users\\10161\\anaconda3\\envs\\my_python_env\\lib\\site-packages\\deepxde\\nn\\tensorflow_compat_v1\\deeponet.py:319: UserWarning: `tf.layers.dense` is deprecated and will be removed in a future version. Please use `tf.keras.layers.Dense` instead.\n",
      "  y_func = tf.layers.dense(\n",
      "c:\\Users\\10161\\anaconda3\\envs\\my_python_env\\lib\\site-packages\\deepxde\\nn\\tensorflow_compat_v1\\deeponet.py:331: UserWarning: `tf.layers.dense` is deprecated and will be removed in a future version. Please use `tf.keras.layers.Dense` instead.\n",
      "  y_loc = tf.layers.dense(\n"
     ]
    },
    {
     "name": "stdout",
     "output_type": "stream",
     "text": [
      "Training model...\n",
      "\n",
      "Step      Train loss    Test loss     Test metric   \n",
      "0         [6.33e-02]    [6.49e-02]    [5.23e-01]    \n",
      "1000      [3.76e-04]    [6.11e-04]    [7.03e-02]    \n",
      "2000      [3.33e-04]    [4.99e-04]    [6.50e-02]    \n",
      "3000      [5.51e-04]    [6.43e-04]    [7.17e-02]    \n",
      "4000      [2.97e-04]    [4.13e-04]    [6.07e-02]    \n",
      "5000      [2.46e-04]    [3.41e-04]    [5.52e-02]    \n",
      "6000      [8.42e-04]    [1.04e-03]    [6.46e-02]    \n",
      "7000      [3.80e-05]    [1.25e-04]    [2.50e-02]    \n",
      "8000      [6.40e-05]    [1.73e-04]    [2.79e-02]    \n",
      "9000      [3.64e-05]    [1.23e-04]    [2.42e-02]    \n",
      "10000     [3.01e-05]    [1.15e-04]    [2.33e-02]    \n",
      "\n",
      "Best model at step 10000:\n",
      "  train loss: 3.01e-05\n",
      "  test loss: 1.15e-04\n",
      "  test metric: [2.33e-02]\n",
      "\n",
      "'train' took 4.788503 s\n",
      "\n"
     ]
    }
   ],
   "source": [
    "model=dde.Model(data,net)\n",
    "model.compile(\"adam\",lr=0.001,metrics=[\"mean l2 relative error\"])\n",
    "losshistory,train_state=model.train(iterations=10000)"
   ]
  },
  {
   "cell_type": "code",
   "execution_count": 7,
   "id": "f1871597",
   "metadata": {},
   "outputs": [
    {
     "data": {
      "image/png": "[encoded data removed]",
      "text/plain": [
       "<Figure size 432x288 with 1 Axes>"
      ]
     },
     "metadata": {
      "needs_background": "light"
     },
     "output_type": "display_data"
    }
   ],
   "source": [
    "dde.utils.plot_loss_history(losshistory)\n",
    "plt.show()"
   ]
  },
  {
   "cell_type": "code",
   "execution_count": 13,
   "id": "de6e583c",
   "metadata": {},
   "outputs": [
    {
     "data": {
      "image/png": "[encoded data removed]",
      "text/plain": [
       "<Figure size 432x288 with 1 Axes>"
      ]
     },
     "metadata": {
      "needs_background": "light"
     },
     "output_type": "display_data"
    }
   ],
   "source": [
    "x=X_train[1].reshape(1,100)\n",
    "y=X_train[1].copy()\n",
    "result=model.predict((x,y))\n",
    "plt.plot(x.reshape(100),0.5*x.reshape(100)**2,label='real')\n",
    "plt.scatter(x.reshape(100)[::10],result.reshape(100)[::10],label='predict')\n",
    "plt.legend(loc='best')\n",
    "plt.show()"
   ]
  }
 ],
 "metadata": {
  "kernelspec": {
   "display_name": "my_python_env",
   "language": "python",
   "name": "my_python_env"
  },
  "language_info": {
   "codemirror_mode": {
    "name": "ipython",
    "version": 3
   },
   "file_extension": ".py",
   "mimetype": "text/x-python",
   "name": "python",
   "nbconvert_exporter": "python",
   "pygments_lexer": "ipython3",
   "version": "3.9.12"
  }
 },
 "nbformat": 4,
 "nbformat_minor": 5
}
